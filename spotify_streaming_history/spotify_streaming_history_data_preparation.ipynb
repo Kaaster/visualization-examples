{
 "cells": [
  {
   "cell_type": "code",
   "execution_count": 1,
   "id": "fa614461-a050-48b7-8eb2-1d136a37f197",
   "metadata": {},
   "outputs": [],
   "source": [
    "import pandas as pd"
   ]
  },
  {
   "cell_type": "code",
   "execution_count": 21,
   "id": "df943f40-f364-49be-aa8e-fd60de03bcde",
   "metadata": {},
   "outputs": [
    {
     "name": "stdout",
     "output_type": "stream",
     "text": [
      "<class 'pandas.core.frame.DataFrame'>\n",
      "RangeIndex: 149860 entries, 0 to 149859\n",
      "Data columns (total 11 columns):\n",
      " #   Column             Non-Null Count   Dtype \n",
      "---  ------             --------------   ----- \n",
      " 0   spotify_track_uri  149860 non-null  object\n",
      " 1   ts                 149860 non-null  object\n",
      " 2   platform           149860 non-null  object\n",
      " 3   ms_played          149860 non-null  int64 \n",
      " 4   track_name         149860 non-null  object\n",
      " 5   artist_name        149860 non-null  object\n",
      " 6   album_name         149860 non-null  object\n",
      " 7   reason_start       149717 non-null  object\n",
      " 8   reason_end         149743 non-null  object\n",
      " 9   shuffle            149860 non-null  bool  \n",
      " 10  skipped            149860 non-null  bool  \n",
      "dtypes: bool(2), int64(1), object(8)\n",
      "memory usage: 10.6+ MB\n"
     ]
    }
   ],
   "source": [
    "df = pd.read_csv('spotify_history.csv')\n",
    "df.info()"
   ]
  },
  {
   "cell_type": "code",
   "execution_count": 22,
   "id": "2bb5d964-7839-4f65-90bb-8ef7a8a9f7cc",
   "metadata": {},
   "outputs": [
    {
     "data": {
      "text/plain": [
       "148675"
      ]
     },
     "execution_count": 22,
     "metadata": {},
     "output_type": "execute_result"
    }
   ],
   "source": [
    "df.drop_duplicates(keep='first', inplace=True)\n",
    "df.shape[0]"
   ]
  },
  {
   "cell_type": "code",
   "execution_count": 23,
   "id": "92b9b436-9d53-4e8d-8b8e-f7230e665795",
   "metadata": {},
   "outputs": [
    {
     "data": {
      "text/plain": [
       "reason_start\n",
       "trackdone     75890\n",
       "fwdbtn        53686\n",
       "clickrow      10982\n",
       "appload        3729\n",
       "backbtn        2199\n",
       "playbtn        1441\n",
       "remote          433\n",
       "trackerror      120\n",
       "unknown          23\n",
       "nextbtn          21\n",
       "popup             5\n",
       "endplay           2\n",
       "autoplay          1\n",
       "Name: count, dtype: int64"
      ]
     },
     "execution_count": 23,
     "metadata": {},
     "output_type": "execute_result"
    }
   ],
   "source": [
    "df.reason_start.value_counts()"
   ]
  },
  {
   "cell_type": "code",
   "execution_count": 24,
   "id": "b45d6d33-7ebf-448d-a2f3-5fae75d1492f",
   "metadata": {},
   "outputs": [
    {
     "data": {
      "text/plain": [
       "reason_end\n",
       "trackdone                       76380\n",
       "fwdbtn                          53359\n",
       "endplay                          9872\n",
       "logout                           4364\n",
       "backbtn                          2173\n",
       "unexpected-exit-while-paused     1724\n",
       "unknown                           268\n",
       "remote                            224\n",
       "unexpected-exit                   118\n",
       "clickrow                           34\n",
       "nextbtn                            21\n",
       "appload                             7\n",
       "popup                               6\n",
       "reload                              4\n",
       "trackerror                          4\n",
       "Name: count, dtype: int64"
      ]
     },
     "execution_count": 24,
     "metadata": {},
     "output_type": "execute_result"
    }
   ],
   "source": [
    "df.reason_end.value_counts()"
   ]
  },
  {
   "cell_type": "code",
   "execution_count": 25,
   "id": "90031023-5be1-4333-a22e-fd79c5d46acb",
   "metadata": {},
   "outputs": [],
   "source": [
    "df.loc[df.reason_start.isnull(), 'reason_start'] = 'unknown'\n",
    "df.loc[df.reason_end.isnull(), 'reason_end'] = 'unknown'"
   ]
  },
  {
   "cell_type": "markdown",
   "id": "0c978906-3ca5-4273-9e74-22e75aee7532",
   "metadata": {},
   "source": [
    "- Если для song_info убирать дубликаты по всему сабсету, то останутся дубли по spotify_track_uri, так как песня может попадать в разные версии альбома.\n",
    "- Например, у spotify_track_uri=3E7dfMvvCLUddWissuqMwr два альбома: \"The Time Of Our Lives - International Version\" и \"\tThe Time Of Our Live\"\r\n"
   ]
  },
  {
   "cell_type": "code",
   "execution_count": 46,
   "id": "f9a89ef1-8dae-4c9e-ad1e-2f689335d47a",
   "metadata": {},
   "outputs": [],
   "source": [
    "song_info = df[['spotify_track_uri', 'track_name', 'artist_name', 'album_name']].drop_duplicates(subset='spotify_track_uri', \n",
    "                                                                                                 keep='first').reset_index(drop=True)\n",
    "song_info.reset_index(inplace=True)\n",
    "song_info.rename(columns={'index': 'song_id'}, inplace=True)"
   ]
  },
  {
   "cell_type": "code",
   "execution_count": 42,
   "id": "a3ff36b9-3f34-47da-8560-51842cbf807a",
   "metadata": {},
   "outputs": [
    {
     "data": {
      "text/plain": [
       "True"
      ]
     },
     "execution_count": 42,
     "metadata": {},
     "output_type": "execute_result"
    }
   ],
   "source": [
    "song_info.shape[0] == song_info.spotify_track_uri.nunique()"
   ]
  },
  {
   "cell_type": "code",
   "execution_count": 50,
   "id": "fe254730-3a5a-4add-afff-bff23ed641df",
   "metadata": {},
   "outputs": [],
   "source": [
    "df = df.merge(song_info[['song_id', 'spotify_track_uri']], how='left', on='spotify_track_uri')\n",
    "df.drop(columns=['spotify_track_uri', 'track_name', 'artist_name', 'album_name'], inplace=True)\n",
    "df = df.iloc[:, [-1, 0, 1, 2, 3, 4, 5, 6]]"
   ]
  },
  {
   "cell_type": "code",
   "execution_count": 63,
   "id": "e4cdcd10-abce-4a74-8cfa-a3b4f65ad380",
   "metadata": {},
   "outputs": [
    {
     "data": {
      "text/html": [
       "<div>\n",
       "<style scoped>\n",
       "    .dataframe tbody tr th:only-of-type {\n",
       "        vertical-align: middle;\n",
       "    }\n",
       "\n",
       "    .dataframe tbody tr th {\n",
       "        vertical-align: top;\n",
       "    }\n",
       "\n",
       "    .dataframe thead th {\n",
       "        text-align: right;\n",
       "    }\n",
       "</style>\n",
       "<table border=\"1\" class=\"dataframe\">\n",
       "  <thead>\n",
       "    <tr style=\"text-align: right;\">\n",
       "      <th></th>\n",
       "      <th>song_id</th>\n",
       "      <th>ts</th>\n",
       "      <th>platform</th>\n",
       "      <th>ms_played</th>\n",
       "      <th>reason_start</th>\n",
       "      <th>reason_end</th>\n",
       "      <th>shuffle</th>\n",
       "      <th>skipped</th>\n",
       "    </tr>\n",
       "  </thead>\n",
       "  <tbody>\n",
       "    <tr>\n",
       "      <th>0</th>\n",
       "      <td>0</td>\n",
       "      <td>2013-07-08 02:44:34</td>\n",
       "      <td>web player</td>\n",
       "      <td>3185</td>\n",
       "      <td>autoplay</td>\n",
       "      <td>clickrow</td>\n",
       "      <td>False</td>\n",
       "      <td>False</td>\n",
       "    </tr>\n",
       "    <tr>\n",
       "      <th>1</th>\n",
       "      <td>1</td>\n",
       "      <td>2013-07-08 02:45:37</td>\n",
       "      <td>web player</td>\n",
       "      <td>61865</td>\n",
       "      <td>clickrow</td>\n",
       "      <td>clickrow</td>\n",
       "      <td>False</td>\n",
       "      <td>False</td>\n",
       "    </tr>\n",
       "    <tr>\n",
       "      <th>2</th>\n",
       "      <td>2</td>\n",
       "      <td>2013-07-08 02:50:24</td>\n",
       "      <td>web player</td>\n",
       "      <td>285386</td>\n",
       "      <td>clickrow</td>\n",
       "      <td>unknown</td>\n",
       "      <td>False</td>\n",
       "      <td>False</td>\n",
       "    </tr>\n",
       "  </tbody>\n",
       "</table>\n",
       "</div>"
      ],
      "text/plain": [
       "   song_id                   ts    platform  ms_played reason_start  \\\n",
       "0        0  2013-07-08 02:44:34  web player       3185     autoplay   \n",
       "1        1  2013-07-08 02:45:37  web player      61865     clickrow   \n",
       "2        2  2013-07-08 02:50:24  web player     285386     clickrow   \n",
       "\n",
       "  reason_end  shuffle  skipped  \n",
       "0   clickrow    False    False  \n",
       "1   clickrow    False    False  \n",
       "2    unknown    False    False  "
      ]
     },
     "execution_count": 63,
     "metadata": {},
     "output_type": "execute_result"
    }
   ],
   "source": [
    "df.head(3)"
   ]
  },
  {
   "cell_type": "code",
   "execution_count": 62,
   "id": "c59d321a-7c70-457e-ba49-f868f7fed8c4",
   "metadata": {},
   "outputs": [
    {
     "data": {
      "text/html": [
       "<div>\n",
       "<style scoped>\n",
       "    .dataframe tbody tr th:only-of-type {\n",
       "        vertical-align: middle;\n",
       "    }\n",
       "\n",
       "    .dataframe tbody tr th {\n",
       "        vertical-align: top;\n",
       "    }\n",
       "\n",
       "    .dataframe thead th {\n",
       "        text-align: right;\n",
       "    }\n",
       "</style>\n",
       "<table border=\"1\" class=\"dataframe\">\n",
       "  <thead>\n",
       "    <tr style=\"text-align: right;\">\n",
       "      <th></th>\n",
       "      <th>song_id</th>\n",
       "      <th>spotify_track_uri</th>\n",
       "      <th>track_name</th>\n",
       "      <th>artist_name</th>\n",
       "      <th>album_name</th>\n",
       "    </tr>\n",
       "  </thead>\n",
       "  <tbody>\n",
       "    <tr>\n",
       "      <th>0</th>\n",
       "      <td>0</td>\n",
       "      <td>2J3n32GeLmMjwuAzyhcSNe</td>\n",
       "      <td>Say It, Just Say It</td>\n",
       "      <td>The Mowgli's</td>\n",
       "      <td>Waiting For The Dawn</td>\n",
       "    </tr>\n",
       "    <tr>\n",
       "      <th>1</th>\n",
       "      <td>1</td>\n",
       "      <td>1oHxIPqJyvAYHy0PVrDU98</td>\n",
       "      <td>Drinking from the Bottle (feat. Tinie Tempah)</td>\n",
       "      <td>Calvin Harris</td>\n",
       "      <td>18 Months</td>\n",
       "    </tr>\n",
       "    <tr>\n",
       "      <th>2</th>\n",
       "      <td>2</td>\n",
       "      <td>487OPlneJNni3NWC8SYqhW</td>\n",
       "      <td>Born To Die</td>\n",
       "      <td>Lana Del Rey</td>\n",
       "      <td>Born To Die - The Paradise Edition</td>\n",
       "    </tr>\n",
       "  </tbody>\n",
       "</table>\n",
       "</div>"
      ],
      "text/plain": [
       "   song_id       spotify_track_uri  \\\n",
       "0        0  2J3n32GeLmMjwuAzyhcSNe   \n",
       "1        1  1oHxIPqJyvAYHy0PVrDU98   \n",
       "2        2  487OPlneJNni3NWC8SYqhW   \n",
       "\n",
       "                                      track_name    artist_name  \\\n",
       "0                            Say It, Just Say It   The Mowgli's   \n",
       "1  Drinking from the Bottle (feat. Tinie Tempah)  Calvin Harris   \n",
       "2                                    Born To Die   Lana Del Rey   \n",
       "\n",
       "                           album_name  \n",
       "0                Waiting For The Dawn  \n",
       "1                           18 Months  \n",
       "2  Born To Die - The Paradise Edition  "
      ]
     },
     "execution_count": 62,
     "metadata": {},
     "output_type": "execute_result"
    }
   ],
   "source": [
    "song_info.head(3)"
   ]
  },
  {
   "cell_type": "code",
   "execution_count": 59,
   "id": "8da6478b-6ead-4c3f-a232-06dab89dcf55",
   "metadata": {},
   "outputs": [],
   "source": [
    "df.to_csv('spotify_history.csv', index=False)\n",
    "song_info.to_csv('spotify_songs.csv', index=False)"
   ]
  }
 ],
 "metadata": {
  "kernelspec": {
   "display_name": "Python 3 (ipykernel)",
   "language": "python",
   "name": "python3"
  },
  "language_info": {
   "codemirror_mode": {
    "name": "ipython",
    "version": 3
   },
   "file_extension": ".py",
   "mimetype": "text/x-python",
   "name": "python",
   "nbconvert_exporter": "python",
   "pygments_lexer": "ipython3",
   "version": "3.11.1"
  }
 },
 "nbformat": 4,
 "nbformat_minor": 5
}
